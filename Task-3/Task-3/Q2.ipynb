{
 "cells": [
  {
   "cell_type": "code",
   "execution_count": 2,
   "id": "4ecc6561",
   "metadata": {},
   "outputs": [
    {
     "name": "stdout",
     "output_type": "stream",
     "text": [
      "[27.62684215 14.64009987 21.80136195 42.39403048  1.23122395  6.95688692\n",
      " 33.86670515 41.466785    7.69862289 29.17957314 44.67477576 11.25090398\n",
      " 10.08108276  6.31046763 11.76517714 48.95256545 40.77247431  9.42510962\n",
      " 40.99501269 14.42961361]\n"
     ]
    },
    {
     "data": {
      "text/plain": [
       "array([27.62684215, 15.        , 21.80136195, 42.39403048, 15.        ,\n",
       "       15.        , 33.86670515, 41.466785  , 15.        , 29.17957314,\n",
       "       44.67477576, 15.        , 15.        , 15.        , 15.        ,\n",
       "       45.        , 40.77247431, 15.        , 40.99501269, 15.        ])"
      ]
     },
     "execution_count": 2,
     "metadata": {},
     "output_type": "execute_result"
    }
   ],
   "source": [
    "# Question-2 [P. Geethika]\n",
    "# A) replace all numbers less than 15 to 15 and all numbers greater than 45 to 45 in the given array\n",
    "import numpy as np\n",
    "np.random.seed(100) \n",
    "a = np.random.uniform(1,50, 20) \n",
    "print(a)\n",
    "np.clip(a, 15, 45)"
   ]
  },
  {
   "cell_type": "code",
   "execution_count": 4,
   "id": "8b678fc6",
   "metadata": {},
   "outputs": [
    {
     "name": "stdout",
     "output_type": "stream",
     "text": [
      "   STD           City        State\n",
      "0   33         Mumbai  Maharashtra\n",
      "1   44        Chennai   Tamil Nadu\n",
      "2   40  Vishakapatnam    Telengana\n",
      "3   80      Bangalore    Karnataka\n"
     ]
    }
   ],
   "source": [
    "# B) python program to split a text column into two separate columns using pandas.\n",
    "import pandas as pd\n",
    "df = pd.DataFrame([[33,\"Mumbai\",\"Maharashtra\"], [44,\"Chennai\",\"Tamil Nadu\"], [40,\"Vishakapatnam\",\"Telengana\"], [80,\"Bangalore\",\"Karnataka\"]],columns = [\"STD\", \"City\", \"State\"], index=range(4))\n",
    "print(df)"
   ]
  },
  {
   "cell_type": "code",
   "execution_count": null,
   "id": "a9144b53",
   "metadata": {},
   "outputs": [],
   "source": []
  }
 ],
 "metadata": {
  "kernelspec": {
   "display_name": "Python 3 (ipykernel)",
   "language": "python",
   "name": "python3"
  },
  "language_info": {
   "codemirror_mode": {
    "name": "ipython",
    "version": 3
   },
   "file_extension": ".py",
   "mimetype": "text/x-python",
   "name": "python",
   "nbconvert_exporter": "python",
   "pygments_lexer": "ipython3",
   "version": "3.9.7"
  }
 },
 "nbformat": 4,
 "nbformat_minor": 5
}
