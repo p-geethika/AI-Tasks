{
 "cells": [
  {
   "cell_type": "code",
   "execution_count": 4,
   "id": "31c82f95",
   "metadata": {},
   "outputs": [],
   "source": [
    "from sklearn.datasets import fetch_openml"
   ]
  },
  {
   "cell_type": "code",
   "execution_count": 7,
   "id": "4eb66b58",
   "metadata": {},
   "outputs": [
    {
     "data": {
      "text/plain": [
       "dict_keys(['data', 'target', 'frame', 'categories', 'feature_names', 'target_names', 'DESCR', 'details', 'url'])"
      ]
     },
     "execution_count": 7,
     "metadata": {},
     "output_type": "execute_result"
    }
   ],
   "source": [
    "df = fetch_openml('mnist_784')\n",
    "df.keys()"
   ]
  },
  {
   "cell_type": "code",
   "execution_count": 8,
   "id": "40458398",
   "metadata": {},
   "outputs": [
    {
     "data": {
      "text/plain": [
       "((1, 784), 2)"
      ]
     },
     "execution_count": 8,
     "metadata": {},
     "output_type": "execute_result"
    }
   ],
   "source": [
    "X, y = df['data'], df['target']\n",
    "X[:1].shape, X[:1].ndim"
   ]
  },
  {
   "cell_type": "code",
   "execution_count": 9,
   "id": "e292c70e",
   "metadata": {},
   "outputs": [],
   "source": [
    "import numpy as np\n",
    "some_image = np.array(X[:1]).reshape(28, 28)"
   ]
  },
  {
   "cell_type": "code",
   "execution_count": 10,
   "id": "db871574",
   "metadata": {},
   "outputs": [
    {
     "data": {
      "text/plain": [
       "(-0.5, 27.5, 27.5, -0.5)"
      ]
     },
     "execution_count": 10,
     "metadata": {},
     "output_type": "execute_result"
    },
    {
     "data": {
      "image/png": "[encoded data removed]",
      "text/plain": [
       "<Figure size 432x288 with 1 Axes>"
      ]
     },
     "metadata": {
      "needs_background": "light"
     },
     "output_type": "display_data"
    }
   ],
   "source": [
    "import numpy as np\n",
    "import pandas as pd\n",
    "import matplotlib.pyplot as plt\n",
    "\n",
    "plt.imshow(some_image, cmap=\"binary\") # without cmap, your image will be colorful\n",
    "plt.axis(\"off\") "
   ]
  },
  {
   "cell_type": "code",
   "execution_count": 11,
   "id": "33cbbb5d",
   "metadata": {},
   "outputs": [],
   "source": [
    "X_train, X_test, y_train, y_test = X[:48999], X[49000:], y[:48999], y[49000:]"
   ]
  },
  {
   "cell_type": "code",
   "execution_count": 12,
   "id": "95f45e72",
   "metadata": {},
   "outputs": [
    {
     "data": {
      "text/plain": [
       "((48999, 784), 2)"
      ]
     },
     "execution_count": 12,
     "metadata": {},
     "output_type": "execute_result"
    }
   ],
   "source": [
    "X_train.shape, X_train.ndim"
   ]
  },
  {
   "cell_type": "code",
   "execution_count": 13,
   "id": "ad2980e0",
   "metadata": {},
   "outputs": [
    {
     "data": {
      "text/plain": [
       "SGDClassifier(max_iter=2000, random_state=42)"
      ]
     },
     "execution_count": 13,
     "metadata": {},
     "output_type": "execute_result"
    }
   ],
   "source": [
    "from sklearn.linear_model import SGDClassifier\n",
    "sgd = SGDClassifier(max_iter=2000, random_state=42) # Increased max_iter from 1000 to 2000 to avoid max iteration reached limit error\n",
    "sgd.fit(X_train, y_train)"
   ]
  },
  {
   "cell_type": "code",
   "execution_count": 14,
   "id": "4fa24c0e",
   "metadata": {},
   "outputs": [
    {
     "data": {
      "text/plain": [
       "0.9022020857568522"
      ]
     },
     "execution_count": 14,
     "metadata": {},
     "output_type": "execute_result"
    }
   ],
   "source": [
    "sgd.score(X_train, y_train)"
   ]
  },
  {
   "cell_type": "code",
   "execution_count": 15,
   "id": "15d098ea",
   "metadata": {},
   "outputs": [
    {
     "data": {
      "text/plain": [
       "array(['4', '9', '1', ..., '4', '5', '6'], dtype='<U1')"
      ]
     },
     "execution_count": 15,
     "metadata": {},
     "output_type": "execute_result"
    }
   ],
   "source": [
    "sgd_pred = sgd.predict(X_test)\n",
    "sgd_pred"
   ]
  },
  {
   "cell_type": "code",
   "execution_count": 16,
   "id": "4355316d",
   "metadata": {},
   "outputs": [
    {
     "data": {
      "text/plain": [
       "0.8916666666666667"
      ]
     },
     "execution_count": 16,
     "metadata": {},
     "output_type": "execute_result"
    }
   ],
   "source": [
    "sgd.score(X_test, y_test)"
   ]
  },
  {
   "cell_type": "code",
   "execution_count": 17,
   "id": "63d4d478",
   "metadata": {},
   "outputs": [
    {
     "name": "stdout",
     "output_type": "stream",
     "text": [
      "0.8894263148227515\n",
      "0.8486499724484173\n",
      "0.8807322598420376\n"
     ]
    }
   ],
   "source": [
    "from sklearn.model_selection import StratifiedKFold\n",
    "from sklearn.base import clone # use clone to copy sgd model\n",
    "\n",
    "sk_fold = StratifiedKFold(random_state=42, n_splits=3, shuffle=True)\n",
    "for train_index, test_index in sk_fold.split(X_train, y_train):\n",
    "    \n",
    "    X_train_fold, X_test_fold = X_train.loc[train_index], X_train.loc[test_index]\n",
    "    y_train_fold, y_test_fold = y_train.loc[train_index], y_train.loc[test_index]\n",
    "    \n",
    "    sgd_clone = clone(sgd)\n",
    "    sgd_clone.fit(X_train_fold, y_train_fold)\n",
    "    y_pred = sgd_clone.predict(X_test_fold)\n",
    "    correct = sum(y_pred == y_test_fold)\n",
    "    print(correct/len(y_pred))"
   ]
  },
  {
   "cell_type": "code",
   "execution_count": 18,
   "id": "d0104f9c",
   "metadata": {},
   "outputs": [
    {
     "data": {
      "text/plain": [
       "array([0.86456866, 0.8465683 , 0.88128329])"
      ]
     },
     "execution_count": 18,
     "metadata": {},
     "output_type": "execute_result"
    }
   ],
   "source": [
    "from sklearn.model_selection import cross_val_score\n",
    "cross_val_score(sgd_clone, X_train, y_train, cv=3, scoring='accuracy')"
   ]
  },
  {
   "cell_type": "code",
   "execution_count": 19,
   "id": "7f4270c4",
   "metadata": {},
   "outputs": [
    {
     "data": {
      "text/plain": [
       "RandomForestClassifier()"
      ]
     },
     "execution_count": 19,
     "metadata": {},
     "output_type": "execute_result"
    }
   ],
   "source": [
    "from sklearn.ensemble import RandomForestClassifier\n",
    "rf = RandomForestClassifier()\n",
    "rf.fit(X_train, y_train)"
   ]
  },
  {
   "cell_type": "code",
   "execution_count": 20,
   "id": "171abadc",
   "metadata": {},
   "outputs": [
    {
     "data": {
      "text/plain": [
       "1.0"
      ]
     },
     "execution_count": 20,
     "metadata": {},
     "output_type": "execute_result"
    }
   ],
   "source": [
    "rf.score(X_train, y_train)"
   ]
  },
  {
   "cell_type": "code",
   "execution_count": 21,
   "id": "40217a21",
   "metadata": {},
   "outputs": [
    {
     "data": {
      "text/plain": [
       "array(['4', '4', '4', ..., '4', '5', '6'], dtype=object)"
      ]
     },
     "execution_count": 21,
     "metadata": {},
     "output_type": "execute_result"
    }
   ],
   "source": [
    "rf_pred = rf.predict(X_test)\n",
    "rf_pred"
   ]
  },
  {
   "cell_type": "code",
   "execution_count": 22,
   "id": "c5fc8bbe",
   "metadata": {},
   "outputs": [
    {
     "data": {
      "text/plain": [
       "array([[2054,    1,    3,    0,    0,    1,    5,    1,   10,    3],\n",
       "       [   0, 2282,    7,    4,    2,    3,    3,    2,    3,    1],\n",
       "       [   9,    1, 2056,    9,    8,    0,    6,   14,   16,    4],\n",
       "       [   2,    0,   16, 2077,    0,   21,    0,   14,   18,    7],\n",
       "       [   2,    7,    4,    0, 1991,    0,    6,    2,    5,   34],\n",
       "       [   7,    0,    7,   30,    5, 1818,   18,    2,   12,    8],\n",
       "       [   7,    3,    2,    0,    3,    7, 1992,    0,    7,    0],\n",
       "       [   2,    9,   34,    5,    6,    0,    0, 2138,    2,   21],\n",
       "       [   9,    6,   12,   15,    9,   11,    9,    4, 1977,   22],\n",
       "       [  13,    7,    4,   17,   26,    9,    1,   15,   16, 1959]],\n",
       "      dtype=int64)"
      ]
     },
     "execution_count": 22,
     "metadata": {},
     "output_type": "execute_result"
    }
   ],
   "source": [
    "from sklearn.metrics import confusion_matrix\n",
    "confusion_matrix(y_test, rf_pred)"
   ]
  },
  {
   "cell_type": "code",
   "execution_count": 23,
   "id": "266b9b05",
   "metadata": {},
   "outputs": [
    {
     "data": {
      "text/plain": [
       "SVC()"
      ]
     },
     "execution_count": 23,
     "metadata": {},
     "output_type": "execute_result"
    }
   ],
   "source": [
    "from sklearn.svm import SVC\n",
    "svc_clf = SVC()\n",
    "svc_clf.fit(X_train, y_train)"
   ]
  },
  {
   "cell_type": "code",
   "execution_count": 24,
   "id": "501bc665",
   "metadata": {},
   "outputs": [
    {
     "data": {
      "text/plain": [
       "array(['5'], dtype=object)"
      ]
     },
     "execution_count": 24,
     "metadata": {},
     "output_type": "execute_result"
    }
   ],
   "source": [
    "some_image = np.array(X[:1])\n",
    "svc_clf.predict(some_image)"
   ]
  },
  {
   "cell_type": "code",
   "execution_count": 25,
   "id": "773e644f",
   "metadata": {},
   "outputs": [
    {
     "data": {
      "text/plain": [
       "array([[ 2.72901919,  2.73334519,  7.25221958,  8.30759275, -0.31076741,\n",
       "         9.31258766,  0.71154943,  2.7696835 ,  6.22154831,  4.80975061]])"
      ]
     },
     "execution_count": 25,
     "metadata": {},
     "output_type": "execute_result"
    }
   ],
   "source": [
    "dec_func = svc_clf.decision_function(some_image)\n",
    "dec_func"
   ]
  },
  {
   "cell_type": "code",
   "execution_count": 26,
   "id": "95b3f5c7",
   "metadata": {},
   "outputs": [
    {
     "data": {
      "text/plain": [
       "5"
      ]
     },
     "execution_count": 26,
     "metadata": {},
     "output_type": "execute_result"
    }
   ],
   "source": [
    "np.argmax(dec_func)"
   ]
  },
  {
   "cell_type": "code",
   "execution_count": 27,
   "id": "53abc8d4",
   "metadata": {},
   "outputs": [
    {
     "data": {
      "text/plain": [
       "array(['0', '1', '2', '3', '4', '5', '6', '7', '8', '9'], dtype=object)"
      ]
     },
     "execution_count": 27,
     "metadata": {},
     "output_type": "execute_result"
    }
   ],
   "source": [
    "svc_clf.classes_"
   ]
  },
  {
   "cell_type": "code",
   "execution_count": 28,
   "id": "418e2282",
   "metadata": {},
   "outputs": [],
   "source": [
    "from sklearn.preprocessing import StandardScaler\n",
    "scaler = StandardScaler()\n",
    "X_train_scaled = scaler.fit_transform(X_train.astype(np.float64))"
   ]
  },
  {
   "cell_type": "code",
   "execution_count": null,
   "id": "ddf6822f",
   "metadata": {},
   "outputs": [],
   "source": [
    "cross_val_score(sgd, X_train_scaled, y_train, cv=3, scoring=\"accuracy\")"
   ]
  },
  {
   "cell_type": "code",
   "execution_count": null,
   "id": "3efc41ff",
   "metadata": {},
   "outputs": [],
   "source": []
  }
 ],
 "metadata": {
  "kernelspec": {
   "display_name": "Python 3 (ipykernel)",
   "language": "python",
   "name": "python3"
  },
  "language_info": {
   "codemirror_mode": {
    "name": "ipython",
    "version": 3
   },
   "file_extension": ".py",
   "mimetype": "text/x-python",
   "name": "python",
   "nbconvert_exporter": "python",
   "pygments_lexer": "ipython3",
   "version": "3.9.7"
  }
 },
 "nbformat": 4,
 "nbformat_minor": 5
}
