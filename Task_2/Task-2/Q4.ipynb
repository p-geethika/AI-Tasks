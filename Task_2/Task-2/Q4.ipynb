{
 "cells": [
  {
   "cell_type": "code",
   "execution_count": 1,
   "id": "1ac15aa2",
   "metadata": {},
   "outputs": [
    {
     "name": "stdout",
     "output_type": "stream",
     "text": [
      "[{(7, 49), (2, 4), (4, 16), (8, 64), (6, 36), (3, 9), (5, 25), (9, 81)}]\n"
     ]
    }
   ],
   "source": [
    "# Question 4\n",
    "list1 = [ 2, 3, 4, 5, 6, 7, 8, 9]\n",
    "list2 = [ 4, 9, 16, 25, 36, 49, 64, 81]\n",
    "list3 = []\n",
    "list3.append(set(zip(list1,list2)))\n",
    "print(list3)"
   ]
  },
  {
   "cell_type": "code",
   "execution_count": null,
   "id": "dd8e06b2",
   "metadata": {},
   "outputs": [],
   "source": []
  }
 ],
 "metadata": {
  "kernelspec": {
   "display_name": "Python 3 (ipykernel)",
   "language": "python",
   "name": "python3"
  },
  "language_info": {
   "codemirror_mode": {
    "name": "ipython",
    "version": 3
   },
   "file_extension": ".py",
   "mimetype": "text/x-python",
   "name": "python",
   "nbconvert_exporter": "python",
   "pygments_lexer": "ipython3",
   "version": "3.9.7"
  }
 },
 "nbformat": 4,
 "nbformat_minor": 5
}
